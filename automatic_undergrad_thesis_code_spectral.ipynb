{
  "cells": [
    {
      "cell_type": "markdown",
      "metadata": {
        "id": "view-in-github",
        "colab_type": "text"
      },
      "source": [
        "<a href=\"https://colab.research.google.com/github/BakedBel/CodigosTesis/blob/main/automatic_undergrad_thesis_code_spectral.ipynb\" target=\"_parent\"><img src=\"https://colab.research.google.com/assets/colab-badge.svg\" alt=\"Open In Colab\"/></a>"
      ]
    },
    {
      "cell_type": "markdown",
      "metadata": {
        "id": "89P9jHHQMVzk"
      },
      "source": [
        "# IMPORT THE LIBRARIES"
      ]
    },
    {
      "cell_type": "code",
      "execution_count": null,
      "metadata": {
        "id": "vOG8wu0IMVzn"
      },
      "outputs": [],
      "source": [
        "import numpy as np\n",
        "import matplotlib.pyplot as plt\n",
        "import math\n",
        "import pandas as pd\n"
      ]
    },
    {
      "cell_type": "markdown",
      "metadata": {
        "id": "pUrE05pRMVzp"
      },
      "source": [
        "# IMPORT AND CREATE THE LIST OF MATRICES"
      ]
    },
    {
      "cell_type": "code",
      "execution_count": null,
      "metadata": {
        "colab": {
          "base_uri": "https://localhost:8080/"
        },
        "id": "cuAraJyVMVzp",
        "outputId": "bdde7654-5174-41d2-bc3b-274a9d53f621"
      },
      "outputs": [
        {
          "output_type": "stream",
          "name": "stderr",
          "text": [
            "<ipython-input-2-3ca04f7f9a09>:57: RuntimeWarning: invalid value encountered in divide\n",
            "  Corr_matrices[i] = matrices[i]/matrices_FF[i]\n",
            "<ipython-input-2-3ca04f7f9a09>:57: RuntimeWarning: divide by zero encountered in divide\n",
            "  Corr_matrices[i] = matrices[i]/matrices_FF[i]\n",
            "<ipython-input-2-3ca04f7f9a09>:70: RuntimeWarning: invalid value encountered in divide\n",
            "  Corr_matrices[l] = Corr_matrices[l]/max\n",
            "<ipython-input-2-3ca04f7f9a09>:118: RuntimeWarning: invalid value encountered in divide\n",
            "  Corr_matrices_A[i] = matrices_TT[i]/matrices_FF[i]\n",
            "<ipython-input-2-3ca04f7f9a09>:118: RuntimeWarning: divide by zero encountered in divide\n",
            "  Corr_matrices_A[i] = matrices_TT[i]/matrices_FF[i]\n",
            "<ipython-input-2-3ca04f7f9a09>:131: RuntimeWarning: invalid value encountered in divide\n",
            "  Corr_matrices_A[l] = Corr_matrices_A[l]/max\n"
          ]
        }
      ],
      "source": [
        "def read_flux_data(filename):\n",
        "    with open(filename, 'r') as file:\n",
        "        lines = file.readlines()\n",
        "\n",
        "    matrices = {}\n",
        "    current_flux = None\n",
        "\n",
        "    for line in lines:\n",
        "        line = line.strip()\n",
        "        if line.startswith('# primitive scorer name: flux'):\n",
        "            flux_id = line.split('flux')[-1]\n",
        "            current_flux = f\"flux{flux_id}\"\n",
        "            if current_flux not in matrices:\n",
        "                matrices[current_flux] = np.zeros((256, 256))\n",
        "        elif current_flux and not line.startswith('#'):\n",
        "            data = line.split(',')\n",
        "            if len(data) >= 4:\n",
        "                ix, iy, value = int(data[0]), int(data[1]), float(data[3])\n",
        "                matrices[current_flux][iy, ix] = value\n",
        "    return matrices\n",
        "\n",
        "# Ejemplo de uso\n",
        "filename = \"spectrum_19.txt\"  # Cambia esto por el nombre de tu archivo\n",
        "matrices = read_flux_data(filename)\n",
        "\n",
        "def read_flux_data(filename):\n",
        "    with open(filename, 'r') as file:\n",
        "        lines = file.readlines()\n",
        "\n",
        "    matrices = {}\n",
        "    current_flux = None\n",
        "\n",
        "    for line in lines:\n",
        "        line = line.strip()\n",
        "        if line.startswith('# primitive scorer name: flux'):\n",
        "            flux_id = line.split('flux')[-1]\n",
        "            current_flux = f\"flux{flux_id}\"\n",
        "            if current_flux not in matrices:\n",
        "                matrices[current_flux] = np.zeros((256, 256))\n",
        "        elif current_flux and not line.startswith('#'):\n",
        "            data = line.split(',')\n",
        "            if len(data) >= 4:\n",
        "                ix, iy, value = int(data[0]), int(data[1]), float(data[3])\n",
        "                matrices[current_flux][iy, ix] = value\n",
        "\n",
        "    return matrices\n",
        "\n",
        "\n",
        "#================================================================== FLAT FIELD CORRECTION =========================================================================#\n",
        "\n",
        "# Ejemplo de uso\n",
        "filename_FF = \"spectrum_19FF.txt\"  # Cambia esto por el nombre de tu archivo\n",
        "matrices_FF = read_flux_data(filename_FF)\n",
        "\n",
        "Corr_matrices = {}\n",
        "for i in matrices:\n",
        "    Corr_matrices[i] = matrices[i]/matrices_FF[i]\n",
        "\n",
        "\n",
        "for l in Corr_matrices:\n",
        "    max = 0\n",
        "    for i in range (0, 256):\n",
        "        for j in range (0,256):\n",
        "            if Corr_matrices[l][i, j] > max:\n",
        "                max = Corr_matrices[l][i, j]\n",
        "            else:\n",
        "                None\n",
        "            j = j + 1\n",
        "        i = i + 1\n",
        "    Corr_matrices[l] = Corr_matrices[l]/max\n",
        "\n",
        "\n",
        "#=========================================================INVOQUE ANY INTENSITY IMAGE =================================================================\n",
        "\n",
        "def plot_intensity_map(matrix):\n",
        "    if matrix is not None:\n",
        "        plt.imshow(matrix, cmap='bone', origin='lower')\n",
        "        plt.colorbar(label='Intensidad')\n",
        "        plt.title(f\"Mapa de Intensidad (18 keV)\")\n",
        "        plt.xlabel(\"X\")\n",
        "        plt.ylabel(\"Y\")\n",
        "        plt.show()\n",
        "\n",
        "#plot_intensity_map(Corr_matrices[\"flux10\"])\n",
        "\n",
        "\n",
        "#==================================================== TOTAL PROJECTED THICKNESS =============================================================================\n",
        "\n",
        "def read_flux_data(filename):\n",
        "    with open(filename, 'r') as file:\n",
        "        lines = file.readlines()\n",
        "\n",
        "    matrices = {}\n",
        "    current_flux = None\n",
        "\n",
        "    for line in lines:\n",
        "        line = line.strip()\n",
        "        if line.startswith('# primitive scorer name: flux'):\n",
        "            flux_id = line.split('flux')[-1]\n",
        "            current_flux = f\"flux{flux_id}\"\n",
        "            if current_flux not in matrices:\n",
        "                matrices[current_flux] = np.zeros((256, 256))\n",
        "        elif current_flux and not line.startswith('#'):\n",
        "            data = line.split(',')\n",
        "            if len(data) >= 4:\n",
        "                ix, iy, value = int(data[0]), int(data[1]), float(data[3])\n",
        "                matrices[current_flux][iy, ix] = value\n",
        "\n",
        "    return matrices\n",
        "\n",
        "# Ejemplo de uso\n",
        "\n",
        "filename_TT = \"spectrum_19Thi.txt\"  # Cambia esto por el nombre de tu\n",
        "matrices_TT = read_flux_data(filename_TT)\n",
        "\n",
        "Corr_matrices_A = {}\n",
        "for i in matrices:\n",
        "    Corr_matrices_A[i] = matrices_TT[i]/matrices_FF[i]\n",
        "\n",
        "\n",
        "for l in Corr_matrices_A:\n",
        "    max = 0\n",
        "    for i in range (0, 256):\n",
        "        for j in range (0,256):\n",
        "            if Corr_matrices_A[l][i, j] > max:\n",
        "                max = Corr_matrices_A[l][i, j]\n",
        "            else:\n",
        "                None\n",
        "            j = j + 1\n",
        "        i = i + 1\n",
        "    Corr_matrices_A[l] = Corr_matrices_A[l]/max\n",
        "\n",
        "#======================================================INVOQUE ANY TOTAL THICKNESS IMAGE===========================================================#\n",
        "\n",
        "def plot_intensity_map(matrix):\n",
        "    if matrix is not None:\n",
        "        plt.imshow(matrix, cmap='bone', origin='lower')\n",
        "        plt.colorbar(label='Intensidad')\n",
        "        plt.title(f\"Mapa de Intensidad (18 keV)\")\n",
        "        plt.xlabel(\"X\")\n",
        "        plt.ylabel(\"Y\")\n",
        "        plt.show()\n",
        "\n",
        "#plot_intensity_map(Corr_matrices_A[\"flux10\"])\n"
      ]
    },
    {
      "cell_type": "markdown",
      "metadata": {
        "id": "UoeZmgvoMVzs"
      },
      "source": [
        "# CREATE A TOTAL INTENSITY IMAGE"
      ]
    },
    {
      "cell_type": "code",
      "execution_count": null,
      "metadata": {
        "id": "DgTWsfsQMVzt",
        "outputId": "a9e606bf-f067-4650-b274-5d4a4715558e",
        "colab": {
          "base_uri": "https://localhost:8080/",
          "height": 996
        }
      },
      "outputs": [
        {
          "output_type": "stream",
          "name": "stderr",
          "text": [
            "<ipython-input-3-4ab5e2b0033e>:13: RuntimeWarning: invalid value encountered in divide\n",
            "  intensity = intensity/max\n"
          ]
        },
        {
          "output_type": "display_data",
          "data": {
            "text/plain": [
              "<Figure size 640x480 with 2 Axes>"
            ],
            "image/png": "[encoded data removed]"
          },
          "metadata": {}
        },
        {
          "output_type": "stream",
          "name": "stderr",
          "text": [
            "<ipython-input-3-4ab5e2b0033e>:39: RuntimeWarning: invalid value encountered in divide\n",
            "  intensity_A = intensity_A/max\n"
          ]
        },
        {
          "output_type": "display_data",
          "data": {
            "text/plain": [
              "<Figure size 640x480 with 2 Axes>"
            ],
            "image/png": "[encoded data removed]"
          },
          "metadata": {}
        }
      ],
      "source": [
        "intensity = np.zeros((256,256))\n",
        "\n",
        "for key in Corr_matrices:\n",
        "    if not np.any(np.isnan(Corr_matrices[key])):  # Verifica si hay al menos un NaN\n",
        "        intensity += Corr_matrices[key]  # Suma la matriz si está limpia= intensity + Corr_matrices[l]\n",
        "\n",
        "max = 0\n",
        "for i in range (0,256):\n",
        "    for j in range (0,256):\n",
        "        if intensity[i][j] > max:\n",
        "            max = intensity[i][j]\n",
        "\n",
        "intensity = intensity/max\n",
        "\n",
        "np.savetxt(\"total_intensity.txt\", np.real(intensity), fmt=\"%.5f\")\n",
        "\n",
        "plt.imshow(intensity, cmap='bone', origin='lower')\n",
        "plt.colorbar(label='Intensidad')\n",
        "plt.title(f\"Intensity (28 keV)\")\n",
        "plt.xlabel(\"X\")\n",
        "plt.ylabel(\"Y\")\n",
        "plt.show()\n",
        "\n",
        "\n",
        "#========================================================== CREATE A TOTAL THICKNESS IMAGE ========================================================================#\n",
        "\n",
        "intensity_A = np.zeros((256,256))\n",
        "\n",
        "for key in Corr_matrices_A:\n",
        "    if not np.any(np.isnan(Corr_matrices_A[key])):  # Verifica si hay al menos un NaN\n",
        "        intensity_A += Corr_matrices_A[key]  # Suma la matriz si está limpia= intensity + Corr_matrices[l]\n",
        "\n",
        "maxA = 0\n",
        "for i in range (0,256):\n",
        "    for j in range (0,256):\n",
        "        if intensity_A[i][j] > max:\n",
        "            maxA = intensity_A[i][j]\n",
        "\n",
        "intensity_A = intensity_A/max\n",
        "\n",
        "#np.savetxt(\"total_intensity_A.txt\", np.real(intensity_A), fmt=\"%.5f\")\n",
        "\n",
        "plt.imshow(intensity_A, cmap='bone', origin='lower')\n",
        "plt.colorbar(label='Intensidad')\n",
        "plt.title(f\"Intensity (28 keV)\")\n",
        "plt.xlabel(\"X\")\n",
        "plt.ylabel(\"Y\")\n",
        "plt.show()"
      ]
    },
    {
      "cell_type": "markdown",
      "metadata": {
        "id": "-pk1QrzbMVzu"
      },
      "source": [
        "# THE PHASE RETRIEVAL METHOD FOR EACH BIN"
      ]
    },
    {
      "cell_type": "code",
      "execution_count": null,
      "metadata": {
        "id": "dAGiWm8TMVzv",
        "outputId": "fed9d86e-ba30-4a04-9330-eb9e6dacb430",
        "colab": {
          "base_uri": "https://localhost:8080/",
          "height": 211
        }
      },
      "outputs": [
        {
          "output_type": "error",
          "ename": "ZeroDivisionError",
          "evalue": "division by zero",
          "traceback": [
            "\u001b[0;31m---------------------------------------------------------------------------\u001b[0m",
            "\u001b[0;31mZeroDivisionError\u001b[0m                         Traceback (most recent call last)",
            "\u001b[0;32m<ipython-input-4-1f814e4b47e0>\u001b[0m in \u001b[0;36m<cell line: 0>\u001b[0;34m()\u001b[0m\n\u001b[1;32m     51\u001b[0m     \u001b[0mky_T\u001b[0m\u001b[0;34m,\u001b[0m \u001b[0mkx_T\u001b[0m \u001b[0;34m=\u001b[0m \u001b[0mnp\u001b[0m\u001b[0;34m.\u001b[0m\u001b[0mmeshgrid\u001b[0m\u001b[0;34m(\u001b[0m\u001b[0mv_T\u001b[0m\u001b[0;34m,\u001b[0m \u001b[0mu_T\u001b[0m\u001b[0;34m,\u001b[0m \u001b[0mindexing\u001b[0m\u001b[0;34m=\u001b[0m\u001b[0;34m'ij'\u001b[0m\u001b[0;34m)\u001b[0m\u001b[0;34m\u001b[0m\u001b[0;34m\u001b[0m\u001b[0m\n\u001b[1;32m     52\u001b[0m \u001b[0;34m\u001b[0m\u001b[0m\n\u001b[0;32m---> 53\u001b[0;31m     \u001b[0mPaganinD\u001b[0m \u001b[0;34m=\u001b[0m \u001b[0;34m(\u001b[0m\u001b[0;36m1\u001b[0m\u001b[0;34m/\u001b[0m\u001b[0;34m(\u001b[0m\u001b[0mdistance\u001b[0m\u001b[0;34m*\u001b[0m\u001b[0;34m(\u001b[0m\u001b[0mdelta_1\u001b[0m\u001b[0;34m/\u001b[0m\u001b[0mmu_1\u001b[0m\u001b[0;34m)\u001b[0m\u001b[0;34m*\u001b[0m\u001b[0;34m(\u001b[0m\u001b[0mkx_T\u001b[0m\u001b[0;34m**\u001b[0m\u001b[0;36m2\u001b[0m \u001b[0;34m+\u001b[0m \u001b[0mky_T\u001b[0m\u001b[0;34m**\u001b[0m\u001b[0;36m2\u001b[0m\u001b[0;34m)\u001b[0m \u001b[0;34m+\u001b[0m \u001b[0;36m1\u001b[0m\u001b[0;34m)\u001b[0m\u001b[0;34m)\u001b[0m \u001b[0;31m#Paganin discreto\u001b[0m\u001b[0;34m\u001b[0m\u001b[0;34m\u001b[0m\u001b[0m\n\u001b[0m\u001b[1;32m     54\u001b[0m     \u001b[0mtraceD\u001b[0m \u001b[0;34m=\u001b[0m \u001b[0mnp\u001b[0m\u001b[0;34m.\u001b[0m\u001b[0mmultiply\u001b[0m\u001b[0;34m(\u001b[0m\u001b[0mnp\u001b[0m\u001b[0;34m.\u001b[0m\u001b[0mdivide\u001b[0m\u001b[0;34m(\u001b[0m\u001b[0;34m-\u001b[0m\u001b[0;36m1\u001b[0m\u001b[0;34m,\u001b[0m \u001b[0mmu_1\u001b[0m\u001b[0;34m)\u001b[0m\u001b[0;34m,\u001b[0m \u001b[0mnp\u001b[0m\u001b[0;34m.\u001b[0m\u001b[0mlog\u001b[0m\u001b[0;34m(\u001b[0m\u001b[0mnp\u001b[0m\u001b[0;34m.\u001b[0m\u001b[0mfft\u001b[0m\u001b[0;34m.\u001b[0m\u001b[0mifft2\u001b[0m\u001b[0;34m(\u001b[0m\u001b[0mnp\u001b[0m\u001b[0;34m.\u001b[0m\u001b[0mmultiply\u001b[0m\u001b[0;34m(\u001b[0m\u001b[0mPaganinD\u001b[0m\u001b[0;34m,\u001b[0m \u001b[0mnp\u001b[0m\u001b[0;34m.\u001b[0m\u001b[0mfft\u001b[0m\u001b[0;34m.\u001b[0m\u001b[0mfft2\u001b[0m\u001b[0;34m(\u001b[0m\u001b[0mA\u001b[0m\u001b[0;34m)\u001b[0m\u001b[0;34m)\u001b[0m\u001b[0;34m)\u001b[0m\u001b[0;34m)\u001b[0m\u001b[0;34m)\u001b[0m\u001b[0;34m\u001b[0m\u001b[0;34m\u001b[0m\u001b[0m\n\u001b[1;32m     55\u001b[0m \u001b[0;34m\u001b[0m\u001b[0m\n",
            "\u001b[0;31mZeroDivisionError\u001b[0m: division by zero"
          ]
        }
      ],
      "source": [
        "E_max = 28\n",
        "\n",
        "#Detector properties\n",
        "pixel_size = 55e-6\n",
        "distance = 1.2\n",
        "\n",
        "#Some constants\n",
        "h=10**(-34)\n",
        "c=3*(10**(8))\n",
        "\n",
        "#Some common values\n",
        "\"\"\"\n",
        "mu_pmma = [0, 3372.7903578272, 475.389510045712, 144.803146078335, 61.3135095341035, 31.1980067357618, 18.0127438890162, 11.3116593558082, 7.55020143258478, 5.27966969545523, 3.83153687662531, 2.92258832235535, 2.29843560735162, 1.85459885720469, 1.52955373764356, 1.2839074438669, 1.09867257300983, 0.955331009963104, 0.842291448520419, 0.751737156129916, 0.678166418023507, 0.617674922247126, 0.567392208921771, 0.525203949195891, 0.489486387163353, 0.459025253426191, 0.432849537898216, 0.410226421902693, 0.390625802856034]\n",
        "delta_pmma = [0, 0.00027556, 6.7948E-05, 2.9872E-05, 1.6707E-05, 1.0657E-05, 7.3859E-06, 5.4187E-06, 4.1446E-06, 3.2725E-06, 2.6493E-06, 2.1886E-06, 1.8385E-06, 1.5661E-06, 1.35E-06, 1.1758E-06, 1.0333E-06, 9.1518E-07, 8.1623E-07, 7.325E-07, 6.6103E-07, 5.9953E-07, 5.4623E-07, 4.9974E-07, 4.5894E-07, 4.2294E-07, 3.9102E-07, 3.6257E-07, 3.3713E-07]\n",
        "\n",
        "mu_nylon = [0, 2849.8, 393.07, 118.67, 49.926, 25.402, 14.645, 9.1863, 6.1272, 4.2834, 3.1084, 2.3769, 1.8778, 1.5244, 1.2663, 1.0722, 0.92482, 0.81026, 0.71959, 0.64671, 0.58734, 0.53838, 0.49758, 0.46326, 0.43415, 0.4093, 0.38792, 0.36943, 0.35337]\n",
        "delta_nylon = [0, 0.00026864, 0.000065964, 0.000029011, 0.000016233, 0.000010358, 0.0000071797, 0.0000052682, 0.0000040299, 0.0000031822, 0.0000025764, 0.0000021284, 0.000001788, 0.0000015231, 0.000001313, 0.0000011436, 0.000001005, 0.00000089015, 0.00000079391, 0.00000071249, 0.00000064297, 0.00000058317, 0.00000053133, 0.0000004861, 0.00000044642, 0.00000041141, 0.00000038036, 0.00000035269, 0.00000032794]\n",
        "\n",
        "mu_cera = [0, 1764.6, 235.04, 69.862, 29.094, 14.710, 8.4989, 5.3442, 3.5626, 2.4798, 1.7860, 1.3856, 1.1135, 0.92103, 0.78034, 0.67465, 0.59336, 0.52957, 0.47864, 0.43737, 0.40349, 0.37536, 0.35176, 0.33179, 0.31477, 0.30017, 0.28756, 0.27662, 0.26710]\n",
        "delta_cera = [0, 0.00023087, 0.000056479, 0.000024873, 0.00001393, 0.0000088943, 0.0000061675, 0.000004527, 0.0000034636, 0.0000027354, 0.0000022148, 0.0000018299, 0.0000015374, 0.0000013097, 0.0000011291, 0.00000098348, 0.0000008643, 0.00000076555, 0.00000068281, 0.00000061278, 0.00000055301, 0.00000050158, 0.00000045699, 0.00000041811, 0.00000038398, 0.00000035387, 0.00000032716, 0.00000030336, 0.00000028208]\n",
        "\"\"\"\n",
        "\n",
        "mu_pmma=[0,0.24795E+03 , 0.91795E+01, 0.20582E+01 , 0.89546E+00, 0.54531E+00, 0.54531E+00]\n",
        "delta_pmma=[0, 4.3211E-05, 4.7178E-06, 1.6941E-06,\t8.6358E-07,\t5.2221E-07,\t3.4951E-07]\n",
        "\n",
        "mu_nylon=[0, 0.20400E+03 , 0.74530E+01 , 0.16866E+01 , 0.76238E+00 ,0.47969E+00, 0.36112E+00 ]\n",
        "delta_nylon=[0,4.1956E-05,4.587E-06,1.6477E-06,8.3996E-07, \t5.0796E-07,\t3.3998E-07]\n",
        "\n",
        "E = [2.5, 7.5, 12.5, 17.5, 22.5, 27.5]\n",
        "A=[0 , 1, 2, 3, 4, 5]\n",
        "for i in range (0, 7):\n",
        "    flux = \"flux\" + str(A[i])\n",
        "    E_J=E[i]*1.6*(10**(-16))\n",
        "    k=E_J/(h*c)\n",
        "    v = 2. * np.pi * np.fft.fftfreq(Corr_matrices[flux].shape[0], d=pixel_size)\n",
        "    u = 2. * np.pi * np.fft.fftfreq(Corr_matrices[flux].shape[1], d=pixel_size)\n",
        "    ky, kx = np.meshgrid(v, u, indexing='ij')\n",
        "    w = pixel_size\n",
        "\n",
        "    mu = mu_nylon[i]* 100\n",
        "    delta = delta_nylon[i]\n",
        "\n",
        "    mu_1 = mu_pmma[i] *100 #The material that encloses the other material absortion coefficient\n",
        "    delta_1 = delta_pmma[i] #The material that encloses the other material real part of refractive index\n",
        "\n",
        "    #The projected Thickness Matrix\n",
        "    A = Corr_matrices_A[flux]\n",
        "\n",
        "    v_T = 2. * np.pi * np.fft.fftfreq(Corr_matrices[flux].shape[0], d=pixel_size)\n",
        "    u_T = 2. * np.pi * np.fft.fftfreq(Corr_matrices[flux].shape[1], d=pixel_size)\n",
        "    ky_T, kx_T = np.meshgrid(v_T, u_T, indexing='ij')\n",
        "\n",
        "    PaganinD = (1/(distance*(delta_1/mu_1)*(kx_T**2 + ky_T**2) + 1)) #Paganin discreto\n",
        "    traceD = np.multiply(np.divide(-1, mu_1), np.log(np.fft.ifft2(np.multiply(PaganinD, np.fft.fft2(A)))))\n",
        "\n",
        "    PaganinBeltran = (1/(distance*(abs(delta-delta_1)/abs(mu-mu_1))*(kx**2 + ky**2) + 1))\n",
        "    traceD2 = np.multiply(np.divide(-1, abs(mu-mu_1)), np.log(np.fft.ifft2(np.multiply(PaganinBeltran, np.fft.fft2(Corr_matrices[flux]/np.exp(mu_1*traceD))))))\n",
        "    #plt.figure()\n",
        "    #plt.title('Trace (PBM)')\n",
        "    #plt.imshow(np.real(traceD2), cmap='bone', interpolation='none')\n",
        "    #plt.colorbar()\n",
        "\n",
        "    Phase32 = -k*delta*traceD2 #Discreto\n",
        "    plt.figure()\n",
        "    plt.title('Phase - PBM')\n",
        "    plt.imshow(np.real(Phase32), cmap='bone', interpolation='none')\n",
        "    plt.colorbar()\n",
        "    np.real(Phase32)\n",
        "\n",
        "    #np.savetxt(\"C:\\\\Users\\\\ALEJANDRO\\\\Documents\\\\APM 2025\\\\TESIS\\\\GEANT4 CODE\\\\IMAGENES SIMULADAS\\\\SPECTRAL TEST 4\\\\BIN IMAGES\\\\flux\" + str(E) + \".txt\", np.real(Phase32), fmt=\"%.5f\")\n"
      ]
    },
    {
      "cell_type": "markdown",
      "metadata": {
        "id": "6TrzXXWeMVzv"
      },
      "source": [
        "# ENERGY WEIGHTING for SNR"
      ]
    },
    {
      "cell_type": "code",
      "execution_count": null,
      "metadata": {
        "id": "rAyuBGJPMVzw"
      },
      "outputs": [],
      "source": [
        "def PI(name):\n",
        "    P=np.zeros(256)\n",
        "\n",
        "    for i in range(len(name)):\n",
        "        P=P+name[i,:]\n",
        "    mean=P/len(name)\n",
        "    return mean\n",
        "\n",
        "#Tomamos una de las imágenes de forma arbitraria y la analizamos para ver que secciones usar.\n",
        "Sample = np.genfromtxt(\"C:\\\\Users\\\\ALEJANDRO\\\\Documents\\\\APM 2025\\\\TESIS\\\\GEANT4 CODE\\\\IMAGENES SIMULADAS\\\\SPECTRAL TEST 4\\\\BIN IMAGES\\\\flux10.txt\")\n",
        "mean = PI(Sample)\n",
        "\n",
        "#plt.plot(mean)  #82:92 and 164:174 for PMMA and 93:103 and 153:163for plaque\n",
        "#plt.grid()\n",
        "#plt.xlabel(\"Pixeles\")\n",
        "#plt.ylabel(\"Phase Counts\")\n",
        "\n",
        "phase = {}\n",
        "\n",
        "for i in range (1,29):\n",
        "    filename = \"C:\\\\Users\\\\ALEJANDRO\\\\Documents\\\\APM 2025\\\\TESIS\\\\GEANT4 CODE\\\\IMAGENES SIMULADAS\\\\SPECTRAL TEST 4\\\\BIN IMAGES\\\\flux\" +str(i) + \".txt\"\n",
        "    phase_i = np.genfromtxt(filename)\n",
        "    key = \"flux\" + str(i)\n",
        "    phase[key] = phase_i\n",
        "\n",
        "for l in phase:\n",
        "    max = 0\n",
        "    for i in range (0, 256):\n",
        "        for j in range (0,256):\n",
        "            if phase[l][i, j] < max:\n",
        "                max = phase[l][i, j]\n",
        "            else:\n",
        "                None\n",
        "            j = j + 1\n",
        "        i = i + 1\n",
        "    phase[l] = phase[l]/np.abs(max)\n",
        "\n",
        "\n",
        "#plt.figure()\n",
        "#plt.title('Phase - PBM')\n",
        "#plt.imshow(np.real(phase[\"flux9\"]), cmap='bone', interpolation='none')\n",
        "#plt.colorbar()\n",
        "\n",
        "\n",
        "#82:92 and 164:174 for PMMA and 93:103 and 153:163for plaque\n",
        "phase_weight = {}\n",
        "for l in phase:\n",
        "    BG1 = np.real(phase[l])[:, 82:92]\n",
        "    BG2 = np.real(phase[l])[:, 164:174]\n",
        "    BG = np.concatenate((BG1, BG2), axis = 1)\n",
        "    BG_mean = np.mean(BG)\n",
        "\n",
        "    SM1 = np.real(phase[l])[:, 100:150]\n",
        "    SM_mean = np.mean(SM1)\n",
        "\n",
        "    phase_weight[l] = np.abs(SM_mean - BG_mean)/(SM_mean + BG_mean)\n",
        "\n",
        "print (phase_weight)\n",
        "\n",
        "\n",
        "final_image_SNR = np.zeros((256,256))\n",
        "\n",
        "for value in phase_weight:\n",
        "     if isinstance(phase_weight[value], float) and not math.isnan(phase_weight[value]):\n",
        "          final_image_SNR = final_image_SNR + (np.abs(phase_weight[value]) * phase[value])\n",
        "\n",
        "\n",
        "plt.figure()\n",
        "plt.title('Spectral Phase - PBM - SNR Maximization')\n",
        "plt.imshow(np.real(final_image_SNR), cmap='bone', interpolation='none')\n",
        "plt.colorbar()\n",
        "\n",
        "np.savetxt(\"C:\\\\Users\\\\ALEJANDRO\\\\Documents\\\\APM 2025\\\\TESIS\\GEANT4 CODE\\\\IMAGENES SIMULADAS\\\\SPECTRAL TEST 4\\\\BIN IMAGES\\\\paganin_beltran_SNR_max.txt\", np.real(final_image_SNR), fmt=\"%.5f\")\n"
      ]
    },
    {
      "cell_type": "markdown",
      "metadata": {
        "id": "cEM99u9dMVzw"
      },
      "source": [
        "# ENERGY WEIGHTING FOR CNR"
      ]
    },
    {
      "cell_type": "code",
      "execution_count": null,
      "metadata": {
        "id": "6mjmdRaJMVzw"
      },
      "outputs": [],
      "source": [
        "\n",
        "#82:92 and 164:174 for PMMA and 93:103 and 153:163for plaque\n",
        "phase_weight_2 = {}\n",
        "for l in phase:\n",
        "    BG1 = np.real(phase[l])[:, 82:92]\n",
        "    BG2 = np.real(phase[l])[:, 164:174]\n",
        "    BG = np.concatenate((BG1, BG2), axis = 1)\n",
        "    BG_mean = np.mean(BG)\n",
        "\n",
        "    SM1 = np.real(phase[l])[:, 100:150]\n",
        "    SM_mean = np.mean(SM1)\n",
        "\n",
        "    phase_weight_2[l] = np.abs(SM_mean - BG_mean)/((np.std(BG))**2)\n",
        "\n",
        "print (phase_weight_2)\n",
        "\n",
        "\n",
        "final_image_CNR = np.zeros((256,256))\n",
        "\n",
        "for value in phase_weight_2:\n",
        "     if isinstance(phase_weight_2[value], float) and not math.isnan(phase_weight_2[value]):\n",
        "          final_image_CNR = final_image_CNR + (np.abs(phase_weight_2[value]) * phase[value])\n",
        "\n",
        "\n",
        "plt.figure()\n",
        "plt.title('Spectral Phase - PBM - CNR Maximization')\n",
        "plt.imshow(np.real(final_image_CNR), cmap='bone', interpolation='none')\n",
        "plt.colorbar()\n",
        "\n",
        "np.savetxt(\"C:\\\\Users\\\\ALEJANDRO\\\\Documents\\\\APM 2025\\\\TESIS\\GEANT4 CODE\\\\IMAGENES SIMULADAS\\\\SPECTRAL TEST 4\\\\BIN IMAGES\\\\paganin_beltran_CNR_max.txt\", np.real(final_image_CNR), fmt=\"%.5f\")"
      ]
    },
    {
      "cell_type": "markdown",
      "metadata": {
        "id": "0FKqU9WMMVzx"
      },
      "source": [
        "# ENERGY WEIGHTING FOR SPECTRA"
      ]
    },
    {
      "cell_type": "code",
      "execution_count": null,
      "metadata": {
        "id": "Wasq4J6lMVzx"
      },
      "outputs": [],
      "source": [
        "# Cargar el archivo CSV\n",
        "file_path = \"C:\\\\Users\\\\ALEJANDRO\\\\Documents\\\\APM 2025\\\\TESIS\\\\GEANT4 CODE\\\\IMAGENES SIMULADAS\\\\SPECTRAL TEST 2\\\\spectra.csv\"  # Asegúrate de que el archivo esté en la misma carpeta o usa la ruta completa\n",
        "data = pd.read_csv(file_path, sep=\";\", header=None,  dtype={0: float, 1: float})\n",
        "\n",
        "# Verificar que tenga al menos dos columnas\n",
        "if data.shape[1] < 2:\n",
        "    raise ValueError(\"El archivo no tiene al menos dos columnas. Verifica su formato.\")\n",
        "\n",
        "# Extraer las columnas\n",
        "x = data.iloc[:, 0].values\n",
        "y = data.iloc[:, 1].values\n",
        "\n",
        "# Graficar los datos originales\n",
        "plt.figure(figsize=(8, 5))\n",
        "plt.plot(x, y, label=\"Energy Spectra\", color = \"red\")\n",
        "plt.xlabel(\"Energy (keV)\")\n",
        "plt.ylabel(\"Photon Fluency (photons/mm2)\")\n",
        "plt.legend()\n",
        "plt.show()\n",
        "\n",
        "# Normalización para que el área bajo la curva sea 1\n",
        "integral = simps(y, x)  # Integración numérica usando el método de Simpson\n",
        "y_normalized = y / integral if integral != 0 else y  # Evitar división por 0\n",
        "\n",
        "# Graficar los datos normalizados\n",
        "plt.figure(figsize=(8, 5))\n",
        "plt.plot(x, y_normalized, label=\"Normalized data\")\n",
        "plt.xlabel(\"Energy (keV)\")\n",
        "plt.ylabel(\"Photon Fluency (photons/mm2)\")\n",
        "plt.legend()\n",
        "plt.show()\n",
        "\n",
        "# Imprimir los nuevos valores de y normalizados\n",
        "#print(\"Valores normalizados de Y:\", y_normalized)\n",
        "\n",
        "phase_weight_3 = {}\n",
        "\n",
        "for l in phase:\n",
        "     phase_weight_3[l] = 1\n",
        "\n",
        "for key, value in zip(phase_weight_3.keys(), y_normalized):\n",
        "    phase_weight_3[key] = value\n",
        "\n",
        "# Imprimir el diccionario actualizado\n",
        "print(phase_weight_3)\n",
        "\n",
        "final_image_spectra = np.zeros((256,256))\n",
        "\n",
        "for value in phase_weight_3:\n",
        "    if not np.isnan(phase[value]).any():  # Verifica si la matriz tiene algún NaN\n",
        "        final_image_spectra += phase[value]  # Sumar solo si no tiene NaN\n",
        "\n",
        "plt.figure()\n",
        "plt.title('Spectral Phase - PBM - Spectra Information')\n",
        "plt.imshow(np.real(final_image_spectra), cmap='bone', interpolation='none')\n",
        "plt.colorbar()\n",
        "\n",
        "\n",
        "print(phase[\"flux26\"])\n",
        "\n",
        "np.savetxt(\"C:\\\\Users\\\\ALEJANDRO\\\\Documents\\\\APM 2025\\\\TESIS\\GEANT4 CODE\\\\IMAGENES SIMULADAS\\\\SPECTRAL TEST 4\\\\BIN IMAGES\\\\paganin_beltran_SPECTRA_max.txt\", np.real(final_image_spectra), fmt=\"%.5f\")"
      ]
    },
    {
      "cell_type": "markdown",
      "metadata": {
        "id": "4pmWlHqEMVzx"
      },
      "source": [
        "# CNR CALCULUS"
      ]
    },
    {
      "cell_type": "code",
      "execution_count": null,
      "metadata": {
        "id": "x1ZaM35ZMVzy"
      },
      "outputs": [],
      "source": [
        "#82:92 and 164:174 for PMMA and 93:103 and 153:163for plaque\n",
        "\n",
        "def CNR2(Sam_mean,BKG_mean,Sigma_B):\n",
        "    return abs(Sam_mean - BKG_mean)/Sigma_B\n",
        "\n",
        "def CNR (image):\n",
        "    BKG1 = np.real(image)[:,82:92]\n",
        "    BKG2 = np.real(image)[:,164:174]\n",
        "    BKG = np.concatenate((BKG1,BKG2), axis = 1)\n",
        "    BKG_mean = np.mean(BKG)\n",
        "    Sigma_B = np.std(BKG)\n",
        "\n",
        "    Sam1 = np.real(image)[:,100:150]\n",
        "    Sam_mean1 = np.mean(Sam1)\n",
        "    CNRC = CNR2(Sam_mean1,BKG_mean,Sigma_B)\n",
        "    return CNRC\n",
        "\n",
        "IM_SNR = CNR(final_image_SNR)\n",
        "IM_CNR = CNR(final_image_CNR)\n",
        "IM_SPECTRA = CNR(final_image_spectra)\n",
        "\n",
        "print (\"Con el método para SNR se obtiene un CNR de: \" + str(IM_SNR))\n",
        "print (\"Con el método para CNR se obtiene un CNR de: \" + str(IM_CNR))\n",
        "print (\"Con el método para SPECTRA se obtiene un CNR de: \" + str(IM_SPECTRA))\n"
      ]
    },
    {
      "cell_type": "markdown",
      "metadata": {
        "id": "jVOIqIgMMVzy"
      },
      "source": [
        "# INTENSITY PROFILES COMPARISON"
      ]
    },
    {
      "cell_type": "code",
      "execution_count": null,
      "metadata": {
        "id": "JEMGXkKRMVzy"
      },
      "outputs": [],
      "source": [
        "Sample1 = PI(np.genfromtxt(\"C:\\\\Users\\\\ALEJANDRO\\\\Documents\\\\APM 2025\\\\TESIS\\GEANT4 CODE\\\\IMAGENES SIMULADAS\\\\SPECTRAL TEST 2\\\\paganin_beltran_Effective_E.txt\"))\n",
        "Sample2 = PI(np.genfromtxt(\"C:\\\\Users\\\\ALEJANDRO\\\\Documents\\\\APM 2025\\\\TESIS\\GEANT4 CODE\\\\IMAGENES SIMULADAS\\\\SPECTRAL TEST 2\\\\paganin_beltran_SNR_max.txt\"))\n",
        "Sample3 = PI(np.genfromtxt(\"C:\\\\Users\\\\ALEJANDRO\\\\Documents\\\\APM 2025\\\\TESIS\\GEANT4 CODE\\\\IMAGENES SIMULADAS\\\\SPECTRAL TEST 2\\\\paganin_beltran_CNR_max.txt\"))\n",
        "Sample4 = PI(np.genfromtxt(\"C:\\\\Users\\\\ALEJANDRO\\\\Documents\\\\APM 2025\\\\TESIS\\GEANT4 CODE\\\\IMAGENES SIMULADAS\\\\SPECTRAL TEST 2\\\\paganin_beltran_SPECTRA_max.txt\"))\n",
        "\n",
        "Sample0 = np.genfromtxt(\"C:\\\\Users\\\\ALEJANDRO\\\\Documents\\\\APM 2025\\\\TESIS\\GEANT4 CODE\\\\IMAGENES SIMULADAS\\\\SPECTRAL TEST 2\\\\paganin_beltran_Effective_E.txt\")\n",
        "\n",
        "Sample1 = Sample1 - (np.ones(256) * np.mean(Sample1[0:50]))\n",
        "Sample2 = Sample2 - (np.ones(256) * np.mean(Sample2[0:50]))\n",
        "Sample3 = Sample3 - (np.ones(256) * np.mean(Sample3[0:50]))\n",
        "Sample4 = Sample4 - (np.ones(256) * np.mean(Sample4[0:50]))\n",
        "\n",
        "print (np.mean(Sample1[0:50]))\n",
        "\n",
        "norm_EE = Sample1/abs(simps(Sample1))\n",
        "norm_SNR =  Sample2/abs(simps(Sample2))\n",
        "norm_CNR = Sample3/abs(simps(Sample3))\n",
        "norm_SPECTRA = Sample4/abs(simps(Sample4))\n",
        "\n",
        "plt.plot(norm_EE, label = \"Effective Energy\")  #82:92 and 164:174 for PMMA and 93:103 and 153:163for plaque\n",
        "plt.plot(norm_SNR, label = \"SNR maximization\")\n",
        "plt.plot(norm_CNR, label = \"CNR maximization\")\n",
        "plt.plot(norm_SPECTRA, label = \"Spectral Information\")\n",
        "plt.grid()\n",
        "plt.legend(prop={'size': 8}, loc=\"upper right\", bbox_to_anchor=(1, 1))\n",
        "plt.xlabel(\"Pixeles\")\n",
        "plt.ylabel(\"Phase Counts\")\n",
        "\n",
        "plt.figure()\n",
        "plt.title('Phase - PBM')\n",
        "plt.imshow(np.real(Sample0), cmap='bone', interpolation='none')\n",
        "plt.colorbar()"
      ]
    }
  ],
  "metadata": {
    "kernelspec": {
      "display_name": "base",
      "language": "python",
      "name": "python3"
    },
    "language_info": {
      "codemirror_mode": {
        "name": "ipython",
        "version": 3
      },
      "file_extension": ".py",
      "mimetype": "text/x-python",
      "name": "python",
      "nbconvert_exporter": "python",
      "pygments_lexer": "ipython3",
      "version": "3.11.4"
    },
    "colab": {
      "provenance": [],
      "include_colab_link": true
    }
  },
  "nbformat": 4,
  "nbformat_minor": 0
}